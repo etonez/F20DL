{
 "cells": [
  {
   "cell_type": "code",
   "execution_count": 3,
   "id": "850c1fb8",
   "metadata": {},
   "outputs": [],
   "source": [
    "import numpy as np\n",
    "import tensorflow as tf\n",
    "import matplotlib.pyplot as plt\n",
    "import cv2 as cv\n",
    "import os, glob, shutil"
   ]
  },
  {
   "cell_type": "code",
   "execution_count": 4,
   "id": "b4f1c049",
   "metadata": {},
   "outputs": [
    {
     "name": "stdout",
     "output_type": "stream",
     "text": [
      "The labels are ['covid', 'normal', 'pneumonia']\n",
      "All images to be resized into 224*224 pixels\n",
      "Downloading data from https://storage.googleapis.com/tensorflow/keras-applications/mobilenet_v2/mobilenet_v2_weights_tf_dim_ordering_tf_kernels_1.0_224_no_top.h5\n",
      "9412608/9406464 [==============================] - 1s 0us/step\n",
      "9420800/9406464 [==============================] - 1s 0us/step\n"
     ]
    }
   ],
   "source": [
    "path = 'datasets/COVID19_Xray/'\n",
    "train = os.listdir(path)\n",
    "\n",
    "#possible labels\n",
    "labels=[\"covid\", \"normal\", \"pneumonia\"]\n",
    "print (f'The labels are {labels}')\n",
    "\n",
    "#image size\n",
    "image_size = 224\n",
    "print(f'All images to be resized into {image_size}*{image_size} pixels')\n",
    "\n",
    "images = []\n",
    "tags = []\n",
    "#Read all images via label\n",
    "for label in labels:\n",
    "    direc = os.path.join(path, label)\n",
    "    class_num = labels.index(label)\n",
    "    \n",
    "    #for each image in folder\n",
    "    for image in os.listdir(direc):\n",
    "        #Read and greyscale and image\n",
    "        image_read = cv.imread(os.path.join(direc,image))\n",
    "        #Resize image\n",
    "        image_resized = cv.resize(image_read,(image_size,image_size))\n",
    "        #Add image to list\n",
    "        images.append(image_resized)\n",
    "        tags.append(class_num)\n",
    "        \n",
    "model = tf.keras.applications.MobileNetV2(include_top=False,\n",
    "weights='imagenet', input_shape=(224, 224, 3))\n",
    "\n",
    "images = np.array(images)\n",
    "\n",
    "predictions = model.predict(images)\n",
    "\n",
    "pred_images = predictions.reshape(images.shape[0], -1)"
   ]
  },
  {
   "cell_type": "code",
   "execution_count": 9,
   "id": "e6539519",
   "metadata": {},
   "outputs": [],
   "source": [
    "from sklearn.model_selection import KFold\n",
    "from sklearn.linear_model import Perceptron\n",
    "from sklearn.metrics import accuracy_score"
   ]
  },
  {
   "cell_type": "code",
   "execution_count": 11,
   "id": "2d8940f7",
   "metadata": {},
   "outputs": [
    {
     "name": "stdout",
     "output_type": "stream",
     "text": [
      "[2 2 2 ... 1 1 1]\n",
      "1\n",
      "[1 1 1 ... 0 0 0]\n",
      "2\n",
      "accuracy of each fold - [0.28452797202797203, 0.31613467424573677]\n",
      "Avg accuracy : 0.3003313231368544\n"
     ]
    }
   ],
   "source": [
    "k = 2\n",
    "kf = KFold(n_splits=k, random_state=None)\n",
    "\n",
    "acc_score = []\n",
    "\n",
    "reg = per_clf = Perceptron()\n",
    "\n",
    "counter = 0\n",
    "\n",
    "for train_index , test_index in kf.split(pred_images):\n",
    "    counter+=1\n",
    "    X_train , X_test = pred_images[train_index,:],pred_images[test_index,:]\n",
    "    y_train = []\n",
    "    y_test = []\n",
    "    \n",
    "    for index in train_index:\n",
    "        y_train.append(tags[index])\n",
    "    \n",
    "    for index in test_index:\n",
    "        y_test.append(tags[index])\n",
    "        \n",
    "    reg.fit(X_train, y_train)\n",
    "    \n",
    "    pred_values = reg.predict(X_test)\n",
    "    print(pred_values)\n",
    "    acc = accuracy_score(pred_values , y_test)\n",
    "    acc_score.append(acc)\n",
    "    \n",
    "    \n",
    "    print(counter)\n",
    "avg_acc_score = sum(acc_score)/k\n",
    " \n",
    "print('accuracy of each fold - {}'.format(acc_score))\n",
    "print('Avg accuracy : {}'.format(avg_acc_score))"
   ]
  },
  {
   "cell_type": "markdown",
   "id": "83e3f30b",
   "metadata": {},
   "source": [
    "As the single perceptron is able to get a high accuracy on test data meaning that it can generalize to new data as well as my data being linearly sepratable as single perceptrons cannot solve the XOR problem."
   ]
  },
  {
   "cell_type": "code",
   "execution_count": 5,
   "id": "580b908d",
   "metadata": {},
   "outputs": [],
   "source": [
    "from sklearn.neural_network import MLPClassifier\n",
    "import random"
   ]
  },
  {
   "cell_type": "code",
   "execution_count": 6,
   "id": "ffd8be58",
   "metadata": {},
   "outputs": [],
   "source": [
    "train_data = []\n",
    "train_tags = []\n",
    "\n",
    "test_data = []\n",
    "test_tags = []\n",
    "\n",
    "for i in range(len(tags)):\n",
    "    if random.randint(1, 100) <= 70:\n",
    "        train_data.append(pred_images[i])\n",
    "        train_tags.append(tags[i])\n",
    "    else:\n",
    "        test_data.append(pred_images[i])\n",
    "        test_tags.append(tags[i])"
   ]
  },
  {
   "cell_type": "code",
   "execution_count": 7,
   "id": "c0de1b07",
   "metadata": {},
   "outputs": [],
   "source": [
    "clf = MLPClassifier().fit(train_data, train_tags)"
   ]
  },
  {
   "cell_type": "code",
   "execution_count": 8,
   "id": "1c59d6dd",
   "metadata": {},
   "outputs": [
    {
     "name": "stdout",
     "output_type": "stream",
     "text": [
      "Correct Train: 100.0%\n",
      "Correct Test: 92.22139117427075%\n"
     ]
    }
   ],
   "source": [
    "correct_test = 0\n",
    "correct_train = 0\n",
    "\n",
    "for count in range(len(test_tags)):\n",
    "    #calculates accuracy \n",
    "    if test_tags[count] == clf.predict(test_data[count].reshape(1, -1)):\n",
    "        correct_test += 1\n",
    "        \n",
    "for count in range(len(train_tags)):\n",
    "    #calculates accuracy \n",
    "    if train_tags[count] == clf.predict(train_data[count].reshape(1, -1)):\n",
    "        correct_train += 1\n",
    "    \n",
    "#Calculate percentage of correct guesses    \n",
    "print(\"Correct Train: \" + str(((correct_train/len(train_tags))*100)) + \"%\")\n",
    "print(\"Correct Test: \" + str(((correct_test/len(test_tags))*100)) + \"%\")"
   ]
  },
  {
   "cell_type": "code",
   "execution_count": 12,
   "id": "b5c77ec1",
   "metadata": {},
   "outputs": [
    {
     "name": "stdout",
     "output_type": "stream",
     "text": [
      "Correct Train: 100.0%\n",
      "Correct Test: 92.37097980553479%\n"
     ]
    }
   ],
   "source": [
    "clf = Perceptron().fit(train_data, train_tags)\n",
    "\n",
    "correct_test = 0\n",
    "correct_train = 0\n",
    "\n",
    "for count in range(len(test_tags)):\n",
    "    #calculates accuracy \n",
    "    if test_tags[count] == clf.predict(test_data[count].reshape(1, -1)):\n",
    "        correct_test += 1\n",
    "        \n",
    "for count in range(len(train_tags)):\n",
    "    #calculates accuracy \n",
    "    if train_tags[count] == clf.predict(train_data[count].reshape(1, -1)):\n",
    "        correct_train += 1\n",
    "    \n",
    "#Calculate percentage of correct guesses    \n",
    "print(\"Correct Train: \" + str(((correct_train/len(train_tags))*100)) + \"%\")\n",
    "print(\"Correct Test: \" + str(((correct_test/len(test_tags))*100)) + \"%\")"
   ]
  },
  {
   "cell_type": "code",
   "execution_count": 14,
   "id": "875d6d2f",
   "metadata": {},
   "outputs": [
    {
     "data": {
      "text/plain": [
       "0.9237097980553478"
      ]
     },
     "execution_count": 14,
     "metadata": {},
     "output_type": "execute_result"
    }
   ],
   "source": [
    "from sklearn.metrics import accuracy_score\n",
    "accuracy_score(clf.predict(test_data), test_tags)"
   ]
  },
  {
   "cell_type": "code",
   "execution_count": 26,
   "id": "dd3f3a6c",
   "metadata": {},
   "outputs": [
    {
     "name": "stdout",
     "output_type": "stream",
     "text": [
      "0.006\n",
      "0.011\n",
      "0.016\n",
      "0.021\n",
      "0.026000000000000002\n",
      "0.031000000000000003\n",
      "0.036000000000000004\n",
      "0.041\n",
      "0.046\n",
      "0.051\n"
     ]
    }
   ],
   "source": [
    "test = 0.001\n",
    "accuracy = []\n",
    "testarr = []\n",
    "\n",
    "for counter in range(10):\n",
    "    correct_test = 0\n",
    "    clf = MLPClassifier(hidden_layer_sizes=3, early_stopping=True, batch_size=300, alpha=test).fit(train_data, train_tags)\n",
    "    \n",
    "    for count in range(len(test_tags)):\n",
    "        #calculates accuracy \n",
    "        if test_tags[count] == clf.predict(test_data[count].reshape(1, -1)):\n",
    "            correct_test += 1\n",
    "    accuracy.append(correct_test/len(test_tags)*100)\n",
    "    testarr.append(test)\n",
    "    \n",
    "    test += 0.005\n",
    "    print(test)"
   ]
  },
  {
   "cell_type": "code",
   "execution_count": 27,
   "id": "2d71fbaa",
   "metadata": {},
   "outputs": [
    {
     "data": {
      "image/png": "[encoded data removed]",
      "text/plain": [
       "<Figure size 432x288 with 1 Axes>"
      ]
     },
     "metadata": {
      "needs_background": "light"
     },
     "output_type": "display_data"
    }
   ],
   "source": [
    "plt.plot(testarr, accuracy)\n",
    "plt.title('Optimal Learning Rate')\n",
    "plt.xlabel('Learning Rate')\n",
    "plt.ylabel('Accuracy')\n",
    "plt.show()"
   ]
  },
  {
   "cell_type": "markdown",
   "id": "84f55268",
   "metadata": {},
   "source": [
    "As you can see 0.026 is approxamatly the most optimal learning rate\n",
    "‘identity’, ‘logistic’, ‘tanh’, ‘relu’"
   ]
  },
  {
   "cell_type": "code",
   "execution_count": 42,
   "id": "c1d94b70",
   "metadata": {},
   "outputs": [
    {
     "name": "stdout",
     "output_type": "stream",
     "text": [
      "0\n",
      "1\n",
      "2\n",
      "3\n"
     ]
    }
   ],
   "source": [
    "test = 0.001\n",
    "accuracy = []\n",
    "act = [\"identity\", \"logistic\", \"tanh\", \"relu\"]\n",
    "\n",
    "for counter in range(len(act)):\n",
    "    correct_test = 0\n",
    "    clf = MLPClassifier(hidden_layer_sizes=3, early_stopping=True, batch_size=300, alpha=0.026, activation=act[counter],random_state=42).fit(train_data, train_tags)\n",
    "    \n",
    "    for count in range(len(test_tags)):\n",
    "        #calculates accuracy \n",
    "        if test_tags[count] == clf.predict(test_data[count].reshape(1, -1)):\n",
    "            correct_test += 1\n",
    "    accuracy.append(correct_test/len(test_tags)*100)\n",
    "    testarr.append(test)\n",
    "    print(counter)"
   ]
  },
  {
   "cell_type": "code",
   "execution_count": 43,
   "id": "c1b26aad",
   "metadata": {},
   "outputs": [
    {
     "data": {
      "image/png": "[encoded data removed]",
      "text/plain": [
       "<Figure size 432x288 with 1 Axes>"
      ]
     },
     "metadata": {
      "needs_background": "light"
     },
     "output_type": "display_data"
    }
   ],
   "source": [
    "plt.bar(act, accuracy)\n",
    "plt.title('Optimal Activation')\n",
    "plt.xlabel('Activation')\n",
    "plt.ylabel('Accuracy')\n",
    "plt.show()"
   ]
  },
  {
   "cell_type": "markdown",
   "id": "8fe8863e",
   "metadata": {},
   "source": [
    "Either the logistic or Identity activation functions seem like they are by far the most optimal activation functions"
   ]
  },
  {
   "cell_type": "code",
   "execution_count": 30,
   "id": "e159f096",
   "metadata": {},
   "outputs": [
    {
     "name": "stdout",
     "output_type": "stream",
     "text": [
      "[91.30127298444131, 32.814710042432814, 90.73550212164074, 32.814710042432814]\n"
     ]
    }
   ],
   "source": [
    "print(accuracy)"
   ]
  },
  {
   "cell_type": "code",
   "execution_count": 33,
   "id": "a3855034",
   "metadata": {},
   "outputs": [
    {
     "name": "stdout",
     "output_type": "stream",
     "text": [
      "4\n",
      "6\n",
      "8\n",
      "10\n",
      "12\n",
      "14\n",
      "16\n",
      "18\n",
      "20\n",
      "22\n"
     ]
    }
   ],
   "source": [
    "test = 2\n",
    "accuracy = []\n",
    "testarr = []\n",
    "\n",
    "for counter in range(10):\n",
    "    correct_test = 0\n",
    "    clf = MLPClassifier(hidden_layer_sizes=test, early_stopping=True, batch_size=300, alpha=0.026).fit(train_data, train_tags)\n",
    "    \n",
    "    for count in range(len(test_tags)):\n",
    "        #calculates accuracy \n",
    "        if test_tags[count] == clf.predict(test_data[count].reshape(1, -1)):\n",
    "            correct_test += 1\n",
    "    accuracy.append(correct_test/len(test_tags)*100)\n",
    "    testarr.append(test)\n",
    "    \n",
    "    test += 2\n",
    "    print(test)"
   ]
  },
  {
   "cell_type": "code",
   "execution_count": 34,
   "id": "82e22a85",
   "metadata": {},
   "outputs": [
    {
     "data": {
      "image/png": "[encoded data removed]",
      "text/plain": [
       "<Figure size 432x288 with 1 Axes>"
      ]
     },
     "metadata": {
      "needs_background": "light"
     },
     "output_type": "display_data"
    }
   ],
   "source": [
    "plt.plot(testarr, accuracy)\n",
    "plt.title('Optimal Network Size')\n",
    "plt.xlabel('Network Size')\n",
    "plt.ylabel('Accuracy')\n",
    "plt.show()"
   ]
  },
  {
   "cell_type": "markdown",
   "id": "0571f55b",
   "metadata": {},
   "source": [
    "As seen from the graph above there is a clear optimal values at eiter 10 or 16 and as compute time increases with network size 10 is the more optimal option"
   ]
  },
  {
   "cell_type": "code",
   "execution_count": 35,
   "id": "72b587c4",
   "metadata": {},
   "outputs": [
    {
     "name": "stdout",
     "output_type": "stream",
     "text": [
      "0.2\n",
      "0.30000000000000004\n",
      "0.4\n",
      "0.5\n",
      "0.6\n",
      "0.7\n",
      "0.7999999999999999\n",
      "0.8999999999999999\n",
      "0.9999999999999999\n"
     ]
    },
    {
     "data": {
      "image/png": "[encoded data removed]",
      "text/plain": [
       "<Figure size 432x288 with 1 Axes>"
      ]
     },
     "metadata": {
      "needs_background": "light"
     },
     "output_type": "display_data"
    }
   ],
   "source": [
    "test = 0.1\n",
    "accuracy = []\n",
    "testarr = []\n",
    "\n",
    "for counter in range(9):\n",
    "    correct_test = 0\n",
    "    clf = MLPClassifier(hidden_layer_sizes=10, solver=\"sgd\", early_stopping=True, batch_size=300, alpha=0.026, momentum=test).fit(train_data, train_tags)\n",
    "    \n",
    "    for count in range(len(test_tags)):\n",
    "        #calculates accuracy \n",
    "        if test_tags[count] == clf.predict(test_data[count].reshape(1, -1)):\n",
    "            correct_test += 1\n",
    "    accuracy.append(correct_test/len(test_tags)*100)\n",
    "    testarr.append(test)\n",
    "    \n",
    "    test += 0.1\n",
    "    print(test)\n",
    "    \n",
    "plt.plot(testarr, accuracy)\n",
    "plt.title('Optimal Momentum')\n",
    "plt.xlabel('Momentum')\n",
    "plt.ylabel('Accuracy')\n",
    "plt.show()"
   ]
  },
  {
   "cell_type": "markdown",
   "id": "49d2c85e",
   "metadata": {},
   "source": [
    "The optimal momentum for this network is 0.8"
   ]
  },
  {
   "cell_type": "code",
   "execution_count": 40,
   "id": "6c4e1406",
   "metadata": {},
   "outputs": [],
   "source": [
    "clf = MLPClassifier(hidden_layer_sizes=10, solver=\"sgd\", early_stopping=True, batch_size=300, alpha=0.026, momentum=0.8, random_state=42).fit(train_data, train_tags)"
   ]
  },
  {
   "cell_type": "code",
   "execution_count": 41,
   "id": "c267cf52",
   "metadata": {},
   "outputs": [
    {
     "name": "stdout",
     "output_type": "stream",
     "text": [
      "Correct Train: 94.36887061056628%\n",
      "Correct Test: 90.5940594059406%\n"
     ]
    }
   ],
   "source": [
    "correct_test = 0\n",
    "correct_train = 0\n",
    "\n",
    "for count in range(len(test_tags)):\n",
    "    #calculates accuracy \n",
    "    if test_tags[count] == clf.predict(test_data[count].reshape(1, -1)):\n",
    "        correct_test += 1\n",
    "        \n",
    "for count in range(len(train_tags)):\n",
    "    #calculates accuracy \n",
    "    if train_tags[count] == clf.predict(train_data[count].reshape(1, -1)):\n",
    "        correct_train += 1\n",
    "    \n",
    "#Calculate percentage of correct guesses    \n",
    "print(\"Correct Train: \" + str(((correct_train/len(train_tags))*100)) + \"%\")\n",
    "print(\"Correct Test: \" + str(((correct_test/len(test_tags))*100)) + \"%\")"
   ]
  },
  {
   "cell_type": "code",
   "execution_count": 61,
   "id": "6b17b497",
   "metadata": {},
   "outputs": [
    {
     "ename": "AttributeError",
     "evalue": "'str' object has no attribute 'shape'",
     "output_type": "error",
     "traceback": [
      "\u001b[1;31m---------------------------------------------------------------------------\u001b[0m",
      "\u001b[1;31mAttributeError\u001b[0m                            Traceback (most recent call last)",
      "\u001b[1;32m~\\AppData\\Local\\Temp/ipykernel_25844/3931015231.py\u001b[0m in \u001b[0;36m<module>\u001b[1;34m\u001b[0m\n\u001b[1;32m----> 1\u001b[1;33m \u001b[0mimage\u001b[0m\u001b[1;33m.\u001b[0m\u001b[0mshape\u001b[0m\u001b[1;33m\u001b[0m\u001b[1;33m\u001b[0m\u001b[0m\n\u001b[0m",
      "\u001b[1;31mAttributeError\u001b[0m: 'str' object has no attribute 'shape'"
     ]
    }
   ],
   "source": []
  },
  {
   "cell_type": "code",
   "execution_count": 62,
   "id": "c8076471",
   "metadata": {},
   "outputs": [],
   "source": [
    "model = tf.keras.Sequential([\n",
    "    tf.keras.Input(shape=(224,224)),\n",
    "    tf.keras.layers.Dense(128, activation='relu'),\n",
    "    tf.keras.layers.Dense(10, activation='softmax')\n",
    "])"
   ]
  },
  {
   "cell_type": "code",
   "execution_count": 63,
   "id": "b099affa",
   "metadata": {},
   "outputs": [],
   "source": [
    "model.compile(optimizer='adam',\n",
    "              loss='sparse_categorical_crossentropy',\n",
    "              metrics=['accuracy'])"
   ]
  },
  {
   "cell_type": "code",
   "execution_count": 64,
   "id": "a4a36d73",
   "metadata": {},
   "outputs": [
    {
     "ename": "ValueError",
     "evalue": "Failed to find data adapter that can handle input: <class 'numpy.ndarray'>, (<class 'list'> containing values of types {\"<class 'int'>\"})",
     "output_type": "error",
     "traceback": [
      "\u001b[1;31m---------------------------------------------------------------------------\u001b[0m",
      "\u001b[1;31mValueError\u001b[0m                                Traceback (most recent call last)",
      "\u001b[1;32m~\\AppData\\Local\\Temp/ipykernel_25844/4123894293.py\u001b[0m in \u001b[0;36m<module>\u001b[1;34m\u001b[0m\n\u001b[1;32m----> 1\u001b[1;33m \u001b[0mmodel\u001b[0m\u001b[1;33m.\u001b[0m\u001b[0mfit\u001b[0m\u001b[1;33m(\u001b[0m\u001b[0mx\u001b[0m\u001b[1;33m=\u001b[0m\u001b[0mimages\u001b[0m\u001b[1;33m,\u001b[0m\u001b[0my\u001b[0m\u001b[1;33m=\u001b[0m\u001b[0mtags\u001b[0m\u001b[1;33m,\u001b[0m\u001b[0mepochs\u001b[0m\u001b[1;33m=\u001b[0m\u001b[1;36m10\u001b[0m\u001b[1;33m)\u001b[0m\u001b[1;33m\u001b[0m\u001b[1;33m\u001b[0m\u001b[0m\n\u001b[0m",
      "\u001b[1;32mG:\\Anaconda\\envs\\rstudio-\\lib\\site-packages\\keras\\utils\\traceback_utils.py\u001b[0m in \u001b[0;36merror_handler\u001b[1;34m(*args, **kwargs)\u001b[0m\n\u001b[0;32m     65\u001b[0m     \u001b[1;32mexcept\u001b[0m \u001b[0mException\u001b[0m \u001b[1;32mas\u001b[0m \u001b[0me\u001b[0m\u001b[1;33m:\u001b[0m  \u001b[1;31m# pylint: disable=broad-except\u001b[0m\u001b[1;33m\u001b[0m\u001b[1;33m\u001b[0m\u001b[0m\n\u001b[0;32m     66\u001b[0m       \u001b[0mfiltered_tb\u001b[0m \u001b[1;33m=\u001b[0m \u001b[0m_process_traceback_frames\u001b[0m\u001b[1;33m(\u001b[0m\u001b[0me\u001b[0m\u001b[1;33m.\u001b[0m\u001b[0m__traceback__\u001b[0m\u001b[1;33m)\u001b[0m\u001b[1;33m\u001b[0m\u001b[1;33m\u001b[0m\u001b[0m\n\u001b[1;32m---> 67\u001b[1;33m       \u001b[1;32mraise\u001b[0m \u001b[0me\u001b[0m\u001b[1;33m.\u001b[0m\u001b[0mwith_traceback\u001b[0m\u001b[1;33m(\u001b[0m\u001b[0mfiltered_tb\u001b[0m\u001b[1;33m)\u001b[0m \u001b[1;32mfrom\u001b[0m \u001b[1;32mNone\u001b[0m\u001b[1;33m\u001b[0m\u001b[1;33m\u001b[0m\u001b[0m\n\u001b[0m\u001b[0;32m     68\u001b[0m     \u001b[1;32mfinally\u001b[0m\u001b[1;33m:\u001b[0m\u001b[1;33m\u001b[0m\u001b[1;33m\u001b[0m\u001b[0m\n\u001b[0;32m     69\u001b[0m       \u001b[1;32mdel\u001b[0m \u001b[0mfiltered_tb\u001b[0m\u001b[1;33m\u001b[0m\u001b[1;33m\u001b[0m\u001b[0m\n",
      "\u001b[1;32mG:\\Anaconda\\envs\\rstudio-\\lib\\site-packages\\keras\\engine\\data_adapter.py\u001b[0m in \u001b[0;36mselect_data_adapter\u001b[1;34m(x, y)\u001b[0m\n\u001b[0;32m    989\u001b[0m         \u001b[1;34m\"Failed to find data adapter that can handle \"\u001b[0m\u001b[1;33m\u001b[0m\u001b[1;33m\u001b[0m\u001b[0m\n\u001b[0;32m    990\u001b[0m         \"input: {}, {}\".format(\n\u001b[1;32m--> 991\u001b[1;33m             _type_name(x), _type_name(y)))\n\u001b[0m\u001b[0;32m    992\u001b[0m   \u001b[1;32melif\u001b[0m \u001b[0mlen\u001b[0m\u001b[1;33m(\u001b[0m\u001b[0madapter_cls\u001b[0m\u001b[1;33m)\u001b[0m \u001b[1;33m>\u001b[0m \u001b[1;36m1\u001b[0m\u001b[1;33m:\u001b[0m\u001b[1;33m\u001b[0m\u001b[1;33m\u001b[0m\u001b[0m\n\u001b[0;32m    993\u001b[0m     raise RuntimeError(\n",
      "\u001b[1;31mValueError\u001b[0m: Failed to find data adapter that can handle input: <class 'numpy.ndarray'>, (<class 'list'> containing values of types {\"<class 'int'>\"})"
     ]
    }
   ],
   "source": [
    "model.fit(x=images,y=tags,epochs=10)"
   ]
  },
  {
   "cell_type": "code",
   "execution_count": null,
   "id": "3ecc3645",
   "metadata": {},
   "outputs": [],
   "source": []
  }
 ],
 "metadata": {
  "kernelspec": {
   "display_name": "Python 3",
   "language": "python",
   "name": "python3"
  },
  "language_info": {
   "codemirror_mode": {
    "name": "ipython",
    "version": 3
   },
   "file_extension": ".py",
   "mimetype": "text/x-python",
   "name": "python",
   "nbconvert_exporter": "python",
   "pygments_lexer": "ipython3",
   "version": "3.8.8"
  }
 },
 "nbformat": 4,
 "nbformat_minor": 5
}
