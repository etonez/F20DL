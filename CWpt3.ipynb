{
 "cells": [
  {
   "cell_type": "code",
   "execution_count": 2,
   "id": "bc3184cc",
   "metadata": {},
   "outputs": [],
   "source": [
    "import numpy as np\n",
    "import tensorflow as tf\n",
    "import matplotlib.pyplot as plt\n",
    "from sklearn.tree import DecisionTreeClassifier,plot_tree\n",
    "import cv2 as cv\n",
    "import os, glob, shutil"
   ]
  },
  {
   "cell_type": "code",
   "execution_count": 3,
   "id": "4674947b",
   "metadata": {},
   "outputs": [
    {
     "name": "stdout",
     "output_type": "stream",
     "text": [
      "The labels are ['covid', 'normal', 'pneumonia']\n",
      "All images to be resized into 224*224 pixels\n"
     ]
    }
   ],
   "source": [
    "path = 'datasets/COVID19_Xray/'\n",
    "train = os.listdir(path)\n",
    "\n",
    "#possible labels\n",
    "labels=[\"covid\", \"normal\", \"pneumonia\"]\n",
    "print (f'The labels are {labels}')\n",
    "\n",
    "#image size\n",
    "image_size = 224\n",
    "print(f'All images to be resized into {image_size}*{image_size} pixels')\n",
    "\n",
    "images = []\n",
    "tags = []\n",
    "#Read all images via label\n",
    "for label in labels:\n",
    "    direc = os.path.join(path, label)\n",
    "    class_num = labels.index(label)\n",
    "    \n",
    "    #for each image in folder\n",
    "    for image in os.listdir(direc):\n",
    "        #Read and greyscale and image\n",
    "        image_read = cv.imread(os.path.join(direc,image))\n",
    "        #Resize image\n",
    "        image_resized = cv.resize(image_read,(image_size,image_size))\n",
    "        #Add image to list\n",
    "        images.append(image_resized)\n",
    "        tags.append(class_num)\n",
    "        \n",
    "model = tf.keras.applications.MobileNetV2(include_top=False,\n",
    "weights='imagenet', input_shape=(224, 224, 3))\n",
    "\n",
    "images = np.array(images)\n",
    "\n",
    "predictions = model.predict(images)\n",
    "\n",
    "pred_images = predictions.reshape(images.shape[0], -1)"
   ]
  },
  {
   "cell_type": "code",
   "execution_count": 4,
   "id": "41d5d362",
   "metadata": {},
   "outputs": [],
   "source": [
    "from sklearn.model_selection import KFold\n",
    "from sklearn.metrics import accuracy_score\n"
   ]
  },
  {
   "cell_type": "code",
   "execution_count": 76,
   "id": "aaf14419",
   "metadata": {},
   "outputs": [
    {
     "name": "stdout",
     "output_type": "stream",
     "text": [
      "1\n",
      "2\n",
      "3\n",
      "4\n",
      "5\n",
      "6\n",
      "7\n",
      "8\n",
      "9\n",
      "10\n",
      "accuracy of each fold - [0.574235807860262, 0.6462882096069869, 0.42139737991266374, 0.6200873362445415, 0.7096069868995634, 0.7986870897155361, 0.5229759299781181, 0.6564551422319475, 0.6805251641137856, 0.7571115973741794]\n",
      "Avg accuracy : 0.6387370643937584\n"
     ]
    }
   ],
   "source": [
    "\n",
    "\n",
    "k = 10\n",
    "kf = KFold(n_splits=k, random_state=None)\n",
    "\n",
    "acc_score = []\n",
    "\n",
    "tree_clf = DecisionTreeClassifier(max_depth=3, random_state=42)\n",
    "\n",
    "counter = 0\n",
    "\n",
    "for train_index , test_index in kf.split(pred_images):\n",
    "    counter+=1\n",
    "    X_train , X_test = pred_images[train_index,:],pred_images[test_index,:]\n",
    "    y_train = []\n",
    "    y_test = []\n",
    "    \n",
    "    for index in train_index:\n",
    "        y_train.append(tags[index])\n",
    "    \n",
    "    for index in test_index:\n",
    "        y_test.append(tags[index])\n",
    "        \n",
    "    tree_clf = DecisionTreeClassifier(max_depth=3, random_state=42)\n",
    "    tree_clf.fit(X_train, y_train)\n",
    "    \n",
    "    pred_values = tree_clf.predict(X_test)\n",
    "    \n",
    "    acc = accuracy_score(pred_values , y_test)\n",
    "    acc_score.append(acc)\n",
    "    \n",
    "    \n",
    "    print(counter)\n",
    "avg_acc_score = sum(acc_score)/k\n",
    " \n",
    "print('accuracy of each fold - {}'.format(acc_score))\n",
    "print('Avg accuracy : {}'.format(avg_acc_score))"
   ]
  },
  {
   "cell_type": "code",
   "execution_count": 1,
   "id": "a7b7efeb",
   "metadata": {},
   "outputs": [
    {
     "ename": "NameError",
     "evalue": "name 'DecisionTreeClassifier' is not defined",
     "output_type": "error",
     "traceback": [
      "\u001b[1;31m---------------------------------------------------------------------------\u001b[0m",
      "\u001b[1;31mNameError\u001b[0m                                 Traceback (most recent call last)",
      "\u001b[1;32m<ipython-input-1-fe6311de5523>\u001b[0m in \u001b[0;36m<module>\u001b[1;34m\u001b[0m\n\u001b[1;32m----> 1\u001b[1;33m \u001b[0mtree_clf\u001b[0m \u001b[1;33m=\u001b[0m \u001b[0mDecisionTreeClassifier\u001b[0m\u001b[1;33m(\u001b[0m\u001b[1;33m)\u001b[0m\u001b[1;33m\u001b[0m\u001b[1;33m\u001b[0m\u001b[0m\n\u001b[0m\u001b[0;32m      2\u001b[0m \u001b[0mtree_clf\u001b[0m\u001b[1;33m.\u001b[0m\u001b[0mfit\u001b[0m\u001b[1;33m(\u001b[0m\u001b[0mpred_images\u001b[0m\u001b[1;33m,\u001b[0m \u001b[0mtags\u001b[0m\u001b[1;33m)\u001b[0m\u001b[1;33m\u001b[0m\u001b[1;33m\u001b[0m\u001b[0m\n",
      "\u001b[1;31mNameError\u001b[0m: name 'DecisionTreeClassifier' is not defined"
     ]
    }
   ],
   "source": [
    "tree_clf = DecisionTreeClassifier()\n",
    "tree_clf.fit(pred_images, tags)"
   ]
  },
  {
   "cell_type": "code",
   "execution_count": 24,
   "id": "9fe55f36",
   "metadata": {},
   "outputs": [
    {
     "data": {
      "text/plain": [
       "[Text(167.4, 190.26, 'X[25654] <= 1.36\\ngini = 0.667\\nsamples = 4575\\nvalue = [1525, 1525, 1525]'),\n",
       " Text(83.7, 135.9, 'X[18185] <= 1.229\\ngini = 0.569\\nsamples = 2329\\nvalue = [894, 213, 1222]'),\n",
       " Text(41.85, 81.53999999999999, 'X[49230] <= 0.134\\ngini = 0.478\\nsamples = 976\\nvalue = [669, 121, 186]'),\n",
       " Text(20.925, 27.180000000000007, 'gini = 0.145\\nsamples = 559\\nvalue = [516, 21, 22]'),\n",
       " Text(62.775000000000006, 27.180000000000007, 'gini = 0.653\\nsamples = 417\\nvalue = [153, 100, 164]'),\n",
       " Text(125.55000000000001, 81.53999999999999, 'X[30568] <= 3.372\\ngini = 0.381\\nsamples = 1353\\nvalue = [225, 92, 1036]'),\n",
       " Text(104.625, 27.180000000000007, 'gini = 0.246\\nsamples = 1138\\nvalue = [109, 48, 981]'),\n",
       " Text(146.475, 27.180000000000007, 'gini = 0.602\\nsamples = 215\\nvalue = [116, 44, 55]'),\n",
       " Text(251.10000000000002, 135.9, 'X[57886] <= 0.383\\ngini = 0.562\\nsamples = 2246\\nvalue = [631, 1312, 303]'),\n",
       " Text(209.25, 81.53999999999999, 'X[22503] <= 2.158\\ngini = 0.488\\nsamples = 1899\\nvalue = [384, 1282, 233]'),\n",
       " Text(188.32500000000002, 27.180000000000007, 'gini = 0.38\\nsamples = 1434\\nvalue = [178, 1105, 151]'),\n",
       " Text(230.175, 27.180000000000007, 'gini = 0.628\\nsamples = 465\\nvalue = [206, 177, 82]'),\n",
       " Text(292.95, 81.53999999999999, 'X[36158] <= 5.364\\ngini = 0.445\\nsamples = 347\\nvalue = [247, 30, 70]'),\n",
       " Text(272.02500000000003, 27.180000000000007, 'gini = 0.3\\nsamples = 284\\nvalue = [235, 20, 29]'),\n",
       " Text(313.875, 27.180000000000007, 'gini = 0.515\\nsamples = 63\\nvalue = [12, 10, 41]')]"
      ]
     },
     "execution_count": 24,
     "metadata": {},
     "output_type": "execute_result"
    },
    {
     "data": {
      "image/png": "[encoded data removed]",
      "text/plain": [
       "<Figure size 432x288 with 1 Axes>"
      ]
     },
     "metadata": {
      "needs_background": "light"
     },
     "output_type": "display_data"
    }
   ],
   "source": [
    "plot_tree(tree_clf)"
   ]
  },
  {
   "cell_type": "code",
   "execution_count": 29,
   "id": "31cd1a34",
   "metadata": {},
   "outputs": [
    {
     "name": "stdout",
     "output_type": "stream",
     "text": [
      "Correct: 73.53005464480874%\n"
     ]
    }
   ],
   "source": [
    "for i in range(len(tags)):\n",
    "    #calculates accuracy \n",
    "    if tags[i] == tree_clf.predict(pred_images[i].reshape(1, -1)):\n",
    "        correct += 1\n",
    "    i = i + 1\n",
    "    \n",
    "#Calculate percentage of correct guesses    \n",
    "print(\"Correct: \" + str(((correct/i)*100)) + \"%\")  "
   ]
  },
  {
   "cell_type": "markdown",
   "id": "69770b90",
   "metadata": {},
   "source": [
    "Find optimal Tree depth"
   ]
  },
  {
   "cell_type": "code",
   "execution_count": 21,
   "id": "c574d5d3",
   "metadata": {},
   "outputs": [
    {
     "name": "stdout",
     "output_type": "stream",
     "text": [
      "0\n",
      "1\n",
      "2\n",
      "3\n",
      "4\n",
      "5\n",
      "6\n",
      "7\n",
      "8\n",
      "9\n"
     ]
    }
   ],
   "source": [
    "accuracy = []\n",
    "max_depth = 10\n",
    "corr_array = []\n",
    "\n",
    "for i in range(max_depth):\n",
    "    tree_clf = DecisionTreeClassifier(max_depth=i+1, random_state=42)\n",
    "    tree_clf.fit(train_data, train_tags)\n",
    "    \n",
    "    correct = 0\n",
    "    for count in range(len(test_tags)):\n",
    "        #calculates accuracy \n",
    "        if test_tags[count] == tree_clf.predict(test_data[count].reshape(1, -1)):\n",
    "            correct += 1\n",
    "    \n",
    "    #Calculate percentage of correct guesses\n",
    "    print(i)\n",
    "    corr_array.append(correct/len(test_tags))"
   ]
  },
  {
   "cell_type": "code",
   "execution_count": 23,
   "id": "e7637a51",
   "metadata": {
    "scrolled": true
   },
   "outputs": [
    {
     "data": {
      "image/png": "[encoded data removed]",
      "text/plain": [
       "<Figure size 432x288 with 1 Axes>"
      ]
     },
     "metadata": {
      "needs_background": "light"
     },
     "output_type": "display_data"
    }
   ],
   "source": [
    "plt.plot(range(10), corr_array)\n",
    "plt.ylabel('Accuracy')\n",
    "plt.xlabel('Max Depth')\n",
    "plt.show()"
   ]
  },
  {
   "cell_type": "markdown",
   "id": "a7568c57",
   "metadata": {},
   "source": [
    "Make new training and testing sets, by moving 30% of the instances from the original training set into the testing set. Note the accuracies on the training and the testing sets"
   ]
  },
  {
   "cell_type": "code",
   "execution_count": 27,
   "id": "fbc71659",
   "metadata": {},
   "outputs": [],
   "source": [
    "import random\n",
    "\n",
    "train_data = []\n",
    "train_tags = []\n",
    "\n",
    "test_data = []\n",
    "test_tags = []\n",
    "\n",
    "for i in range(len(tags)):\n",
    "    if random.randint(1, 100) <= 70:\n",
    "        train_data.append(pred_images[i])\n",
    "        train_tags.append(tags[i])\n",
    "    else:\n",
    "        test_data.append(pred_images[i])\n",
    "        test_tags.append(tags[i])"
   ]
  },
  {
   "cell_type": "code",
   "execution_count": 28,
   "id": "609df010",
   "metadata": {},
   "outputs": [
    {
     "data": {
      "text/plain": [
       "DecisionTreeClassifier(max_depth=5, random_state=42)"
      ]
     },
     "execution_count": 28,
     "metadata": {},
     "output_type": "execute_result"
    }
   ],
   "source": [
    "tree_clf = DecisionTreeClassifier(max_depth=5, random_state=42)\n",
    "tree_clf.fit(train_data, train_tags)"
   ]
  },
  {
   "cell_type": "code",
   "execution_count": 30,
   "id": "8218b002",
   "metadata": {},
   "outputs": [
    {
     "name": "stdout",
     "output_type": "stream",
     "text": [
      "Correct Train: 84.5079365079365%\n",
      "Correct Test: 74.66666666666667%\n"
     ]
    }
   ],
   "source": [
    "correct_test = 0\n",
    "correct_train = 0\n",
    "\n",
    "for count in range(len(test_tags)):\n",
    "    #calculates accuracy \n",
    "    if test_tags[count] == tree_clf.predict(test_data[count].reshape(1, -1)):\n",
    "        correct_test += 1\n",
    "        \n",
    "for count in range(len(train_tags)):\n",
    "    #calculates accuracy \n",
    "    if train_tags[count] == tree_clf.predict(train_data[count].reshape(1, -1)):\n",
    "        correct_train += 1\n",
    "    \n",
    "#Calculate percentage of correct guesses    \n",
    "print(\"Correct Train: \" + str(((correct_train/len(train_tags))*100)) + \"%\")\n",
    "print(\"Correct Test: \" + str(((correct_test/len(test_tags))*100)) + \"%\")"
   ]
  },
  {
   "cell_type": "markdown",
   "id": "1024a00e",
   "metadata": {},
   "source": [
    "Make new training and testing sets, by moving 60% of the instances from the original training set into the testing set. Note the accuracies on the training and the testing sets"
   ]
  },
  {
   "cell_type": "code",
   "execution_count": 32,
   "id": "dfa9c466",
   "metadata": {},
   "outputs": [
    {
     "data": {
      "text/plain": [
       "DecisionTreeClassifier(max_depth=5, random_state=42)"
      ]
     },
     "execution_count": 32,
     "metadata": {},
     "output_type": "execute_result"
    }
   ],
   "source": [
    "train_data = []\n",
    "train_tags = []\n",
    "\n",
    "test_data = []\n",
    "test_tags = []\n",
    "\n",
    "for i in range(len(tags)):\n",
    "    if random.randint(1, 100) <= 40:\n",
    "        train_data.append(pred_images[i])\n",
    "        train_tags.append(tags[i])\n",
    "    else:\n",
    "        test_data.append(pred_images[i])\n",
    "        test_tags.append(tags[i])\n",
    "\n",
    "tree_clf = DecisionTreeClassifier(max_depth=5, random_state=42)\n",
    "tree_clf.fit(train_data, train_tags)\n"
   ]
  },
  {
   "cell_type": "code",
   "execution_count": 33,
   "id": "513dfcae",
   "metadata": {},
   "outputs": [
    {
     "name": "stdout",
     "output_type": "stream",
     "text": [
      "Correct Train: 86.64529914529915%\n",
      "Correct Test: 77.28449870514244%\n"
     ]
    }
   ],
   "source": [
    "correct_test = 0\n",
    "correct_train = 0\n",
    "\n",
    "for count in range(len(test_tags)):\n",
    "    #calculates accuracy \n",
    "    if test_tags[count] == tree_clf.predict(test_data[count].reshape(1, -1)):\n",
    "        correct_test += 1\n",
    "        \n",
    "for count in range(len(train_tags)):\n",
    "    #calculates accuracy \n",
    "    if train_tags[count] == tree_clf.predict(train_data[count].reshape(1, -1)):\n",
    "        correct_train += 1\n",
    "    \n",
    "#Calculate percentage of correct guesses    \n",
    "print(\"Correct Train: \" + str(((correct_train/len(train_tags))*100)) + \"%\")\n",
    "print(\"Correct Test: \" + str(((correct_test/len(test_tags))*100)) + \"%\")"
   ]
  },
  {
   "cell_type": "markdown",
   "id": "396e8c0f",
   "metadata": {},
   "source": [
    "As the set with 30 test / 70 train underperforms against the 60 test / 40 train it can be concluded that the first set is overfitted and too specialised"
   ]
  }
 ],
 "metadata": {
  "kernelspec": {
   "display_name": "Python 3",
   "language": "python",
   "name": "python3"
  },
  "language_info": {
   "codemirror_mode": {
    "name": "ipython",
    "version": 3
   },
   "file_extension": ".py",
   "mimetype": "text/x-python",
   "name": "python",
   "nbconvert_exporter": "python",
   "pygments_lexer": "ipython3",
   "version": "3.8.8"
  }
 },
 "nbformat": 4,
 "nbformat_minor": 5
}
